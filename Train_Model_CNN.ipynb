{
 "cells": [
  {
   "cell_type": "markdown",
   "id": "f2301dde",
   "metadata": {},
   "source": [
    "## I have leraned how to use tflite for inference, now I want to try trainng from scrathch by CNN."
   ]
  },
  {
   "cell_type": "markdown",
   "id": "cef563fa",
   "metadata": {},
   "source": [
    "So far, we saw how to build a Dense Neural Network (DNN) that classified images of digits (MNIST) or even fashion images (Fashion-MNIST). Here we will instead, recognize the 10 classes of CIFAR ('airplane', 'automobile', 'bird', 'cat', 'deer', 'dog', 'frog', 'horse', 'ship' and 'truck'). There are some key differences between these two image datasets that we need to take into account.\n",
    "\n",
    "First, while MNIST were 28x28 monochrome images (1 color channel), CIFAR is 32x32 color images (3 color channels).\n",
    "\n",
    "Second, MNIST images are simple, containing just the object centered in the image, with no background. Conversely, CIFAR ones are not centered and can have the object with a background, such as airplanes that might have a cloudy sky behind them! Those differences are the main reason to use a CNN instead of a DNN."
   ]
  },
  {
   "cell_type": "code",
   "execution_count": 1,
   "id": "62a2aec4",
   "metadata": {},
   "outputs": [],
   "source": [
    "import numpy as np\n",
    "import matplotlib.pyplot as plt\n",
    "import tensorflow as tf\n",
    "from tensorflow.keras.models import Sequential\n",
    "from tensorflow.keras.layers import Dense, Conv2D, MaxPool2D, Flatten\n",
    "from tensorflow.keras.callbacks import EarlyStopping"
   ]
  },
  {
   "cell_type": "code",
   "execution_count": 2,
   "id": "7554ec17",
   "metadata": {},
   "outputs": [],
   "source": [
    "cifar10 = tf.keras.datasets.cifar10\n",
    "(train_imgs, train_labels), (test_imgs, test_labels) = cifar10.load_data()"
   ]
  },
  {
   "cell_type": "code",
   "execution_count": 3,
   "id": "14d7141a",
   "metadata": {},
   "outputs": [
    {
     "name": "stdout",
     "output_type": "stream",
     "text": [
      "(50000, 32, 32, 3) (50000, 1)\n",
      "(10000, 32, 32, 3) (10000, 1)\n"
     ]
    }
   ],
   "source": [
    "print(train_imgs.shape, train_labels.shape)\n",
    "print(test_imgs.shape, test_labels.shape)"
   ]
  },
  {
   "cell_type": "markdown",
   "id": "ad2fa386",
   "metadata": {},
   "source": [
    "### so we got images like 32 * 32 * 3, trying to see the images and labels"
   ]
  },
  {
   "cell_type": "code",
   "execution_count": 4,
   "id": "e8d0e93f",
   "metadata": {},
   "outputs": [
    {
     "data": {
      "text/plain": [
       "<matplotlib.image.AxesImage at 0x18edbead610>"
      ]
     },
     "execution_count": 4,
     "metadata": {},
     "output_type": "execute_result"
    },
    {
     "data": {
      "image/png": "[encoded data removed]",
      "text/plain": [
       "<Figure size 640x480 with 1 Axes>"
      ]
     },
     "metadata": {},
     "output_type": "display_data"
    }
   ],
   "source": [
    "plt.imshow(train_imgs[1])"
   ]
  },
  {
   "cell_type": "code",
   "execution_count": 5,
   "id": "9a324d32",
   "metadata": {},
   "outputs": [
    {
     "name": "stdout",
     "output_type": "stream",
     "text": [
      "[9]\n"
     ]
    }
   ],
   "source": [
    "print(train_labels[1])"
   ]
  },
  {
   "cell_type": "code",
   "execution_count": 6,
   "id": "de18111e",
   "metadata": {},
   "outputs": [
    {
     "name": "stdout",
     "output_type": "stream",
     "text": [
      "9\n"
     ]
    }
   ],
   "source": [
    "print(train_labels[1][0])"
   ]
  },
  {
   "cell_type": "markdown",
   "id": "6cba72fe",
   "metadata": {},
   "source": [
    "### The labels looks inside of a tensor, so need twice to collect the value.\n",
    "\n",
    "remind that we have 10 labels, 0-9"
   ]
  },
  {
   "cell_type": "code",
   "execution_count": 7,
   "id": "7c24896a",
   "metadata": {},
   "outputs": [],
   "source": [
    "class_names = ['airplane', 'automobile', 'bird', 'cat', 'deer', 'dog', 'frog', 'horse', 'ship', 'truck']"
   ]
  },
  {
   "cell_type": "code",
   "execution_count": 8,
   "id": "70fcb898",
   "metadata": {},
   "outputs": [
    {
     "data": {
      "text/plain": [
       "'truck'"
      ]
     },
     "execution_count": 8,
     "metadata": {},
     "output_type": "execute_result"
    }
   ],
   "source": [
    "class_names[train_labels[1][0]]"
   ]
  },
  {
   "cell_type": "markdown",
   "id": "b2fe2416",
   "metadata": {},
   "source": [
    "### Infact lots of the images are 255 pixels, to avoid from gradient explosion, need to normalize it."
   ]
  },
  {
   "cell_type": "code",
   "execution_count": 9,
   "id": "fd772a8d",
   "metadata": {},
   "outputs": [
    {
     "data": {
      "text/plain": [
       "np.uint8(255)"
      ]
     },
     "execution_count": 9,
     "metadata": {},
     "output_type": "execute_result"
    }
   ],
   "source": [
    "train_imgs.max()"
   ]
  },
  {
   "cell_type": "code",
   "execution_count": 10,
   "id": "dcb65d9a",
   "metadata": {},
   "outputs": [
    {
     "data": {
      "text/plain": [
       "np.uint8(255)"
      ]
     },
     "execution_count": 10,
     "metadata": {},
     "output_type": "execute_result"
    }
   ],
   "source": [
    "test_imgs.max()"
   ]
  },
  {
   "cell_type": "code",
   "execution_count": 11,
   "id": "b52c24c0",
   "metadata": {},
   "outputs": [],
   "source": [
    "train_imgs = train_imgs / 255.0\n",
    "test_imgs = test_imgs / 255.0"
   ]
  },
  {
   "cell_type": "code",
   "execution_count": 12,
   "id": "f1e95ed2",
   "metadata": {},
   "outputs": [
    {
     "data": {
      "text/plain": [
       "np.float64(1.0)"
      ]
     },
     "execution_count": 12,
     "metadata": {},
     "output_type": "execute_result"
    }
   ],
   "source": [
    "train_imgs.max()"
   ]
  },
  {
   "cell_type": "code",
   "execution_count": 13,
   "id": "94fa4879",
   "metadata": {},
   "outputs": [
    {
     "data": {
      "text/plain": [
       "np.float64(1.0)"
      ]
     },
     "execution_count": 13,
     "metadata": {},
     "output_type": "execute_result"
    }
   ],
   "source": [
    "test_imgs.max()"
   ]
  },
  {
   "cell_type": "markdown",
   "id": "a73d5000",
   "metadata": {},
   "source": [
    "### Althouth this is a hight quality dataset, but we still need to check the distribution of labels to avoid from bias"
   ]
  },
  {
   "cell_type": "code",
   "execution_count": 14,
   "id": "25fab767",
   "metadata": {},
   "outputs": [
    {
     "data": {
      "text/plain": [
       "(array([5000., 5000., 5000., 5000., 5000., 5000., 5000., 5000., 5000.,\n",
       "        5000.]),\n",
       " array([0. , 0.9, 1.8, 2.7, 3.6, 4.5, 5.4, 6.3, 7.2, 8.1, 9. ]),\n",
       " <BarContainer object of 10 artists>)"
      ]
     },
     "execution_count": 14,
     "metadata": {},
     "output_type": "execute_result"
    },
    {
     "data": {
      "image/png": "[encoded data removed]",
      "text/plain": [
       "<Figure size 640x480 with 1 Axes>"
      ]
     },
     "metadata": {},
     "output_type": "display_data"
    }
   ],
   "source": [
    "plt.hist(train_labels)"
   ]
  },
  {
   "cell_type": "markdown",
   "id": "bd21a650",
   "metadata": {},
   "source": [
    "### Casue we want the accurate performance, we need the valid set and the new size train set."
   ]
  },
  {
   "cell_type": "code",
   "execution_count": 15,
   "id": "0607f50e",
   "metadata": {},
   "outputs": [
    {
     "name": "stdout",
     "output_type": "stream",
     "text": [
      "(5000, 32, 32, 3) (5000, 1)\n"
     ]
    }
   ],
   "source": [
    "validation_imgs = train_imgs[:5000]\n",
    "validation_labels = train_labels[:5000]\n",
    "print(validation_imgs.shape, validation_labels.shape)"
   ]
  },
  {
   "cell_type": "markdown",
   "id": "2cec6fd7",
   "metadata": {},
   "source": [
    "### The train size should be reset to 45000."
   ]
  },
  {
   "cell_type": "code",
   "execution_count": 16,
   "id": "a3a36429",
   "metadata": {},
   "outputs": [
    {
     "name": "stdout",
     "output_type": "stream",
     "text": [
      "(45000, 32, 32, 3) (45000, 1)\n"
     ]
    }
   ],
   "source": [
    "train_imgs = train_imgs[5000:]\n",
    "train_labels = train_labels[5000:]\n",
    "print(train_imgs.shape, train_labels.shape)"
   ]
  },
  {
   "cell_type": "code",
   "execution_count": 17,
   "id": "3d6dbc16",
   "metadata": {},
   "outputs": [
    {
     "data": {
      "text/plain": [
       "Text(0.5, 1.0, 'Distribution of labels')"
      ]
     },
     "execution_count": 17,
     "metadata": {},
     "output_type": "execute_result"
    },
    {
     "data": {
      "image/png": "[encoded data removed]",
      "text/plain": [
       "<Figure size 640x480 with 1 Axes>"
      ]
     },
     "metadata": {},
     "output_type": "display_data"
    }
   ],
   "source": [
    "plt.hist(train_labels, alpha=0.5)\n",
    "plt.hist(validation_labels, alpha=0.5)\n",
    "plt.hist(test_labels, alpha=0.5)\n",
    "plt.title(\"Distribution of labels\")"
   ]
  },
  {
   "cell_type": "markdown",
   "id": "3491a066",
   "metadata": {},
   "source": [
    "### Create the model architecture and compile it\n",
    "\n",
    "Remind the compile is set the loss function and optimizer."
   ]
  },
  {
   "cell_type": "markdown",
   "id": "721f96f3",
   "metadata": {},
   "source": [
    "On [Convolution layers](https://www.tensorflow.org/api_docs/python/tf/keras/layers/Conv2D),\n",
    "- strides is an integer or tuple/list of 2 integers, specifying the strides of the convolution along the height and width. Default (1,1).\n",
    "- padding: one of \"valid\" or \"same\" (case-insensitive). Default = 'valid'.\n",
    "  - \"valid\" means no padding.  \n",
    "  - \"same\" results in padding with zeros evenly\n",
    "to the left/right or up/down of the input such that output has the same\n"
   ]
  },
  {
   "cell_type": "code",
   "execution_count": 18,
   "id": "6cded029",
   "metadata": {},
   "outputs": [
    {
     "name": "stderr",
     "output_type": "stream",
     "text": [
      "c:\\Users\\prp\\.virtualenvs\\RA-BKpWPXUI\\Lib\\site-packages\\keras\\src\\layers\\convolutional\\base_conv.py:113: UserWarning: Do not pass an `input_shape`/`input_dim` argument to a layer. When using Sequential models, prefer using an `Input(shape)` object as the first layer in the model instead.\n",
      "  super().__init__(activity_regularizer=activity_regularizer, **kwargs)\n"
     ]
    },
    {
     "data": {
      "text/html": [
       "<pre style=\"white-space:pre;overflow-x:auto;line-height:normal;font-family:Menlo,'DejaVu Sans Mono',consolas,'Courier New',monospace\"><span style=\"font-weight: bold\">Model: \"sequential\"</span>\n",
       "</pre>\n"
      ],
      "text/plain": [
       "\u001b[1mModel: \"sequential\"\u001b[0m\n"
      ]
     },
     "metadata": {},
     "output_type": "display_data"
    },
    {
     "data": {
      "text/html": [
       "<pre style=\"white-space:pre;overflow-x:auto;line-height:normal;font-family:Menlo,'DejaVu Sans Mono',consolas,'Courier New',monospace\">┏━━━━━━━━━━━━━━━━━━━━━━━━━━━━━━━━━┳━━━━━━━━━━━━━━━━━━━━━━━━┳━━━━━━━━━━━━━━━┓\n",
       "┃<span style=\"font-weight: bold\"> Layer (type)                    </span>┃<span style=\"font-weight: bold\"> Output Shape           </span>┃<span style=\"font-weight: bold\">       Param # </span>┃\n",
       "┡━━━━━━━━━━━━━━━━━━━━━━━━━━━━━━━━━╇━━━━━━━━━━━━━━━━━━━━━━━━╇━━━━━━━━━━━━━━━┩\n",
       "│ conv2d (<span style=\"color: #0087ff; text-decoration-color: #0087ff\">Conv2D</span>)                 │ (<span style=\"color: #00d7ff; text-decoration-color: #00d7ff\">None</span>, <span style=\"color: #00af00; text-decoration-color: #00af00\">30</span>, <span style=\"color: #00af00; text-decoration-color: #00af00\">30</span>, <span style=\"color: #00af00; text-decoration-color: #00af00\">32</span>)     │           <span style=\"color: #00af00; text-decoration-color: #00af00\">896</span> │\n",
       "├─────────────────────────────────┼────────────────────────┼───────────────┤\n",
       "│ max_pooling2d (<span style=\"color: #0087ff; text-decoration-color: #0087ff\">MaxPooling2D</span>)    │ (<span style=\"color: #00d7ff; text-decoration-color: #00d7ff\">None</span>, <span style=\"color: #00af00; text-decoration-color: #00af00\">15</span>, <span style=\"color: #00af00; text-decoration-color: #00af00\">15</span>, <span style=\"color: #00af00; text-decoration-color: #00af00\">32</span>)     │             <span style=\"color: #00af00; text-decoration-color: #00af00\">0</span> │\n",
       "├─────────────────────────────────┼────────────────────────┼───────────────┤\n",
       "│ conv2d_1 (<span style=\"color: #0087ff; text-decoration-color: #0087ff\">Conv2D</span>)               │ (<span style=\"color: #00d7ff; text-decoration-color: #00d7ff\">None</span>, <span style=\"color: #00af00; text-decoration-color: #00af00\">13</span>, <span style=\"color: #00af00; text-decoration-color: #00af00\">13</span>, <span style=\"color: #00af00; text-decoration-color: #00af00\">64</span>)     │        <span style=\"color: #00af00; text-decoration-color: #00af00\">18,496</span> │\n",
       "├─────────────────────────────────┼────────────────────────┼───────────────┤\n",
       "│ max_pooling2d_1 (<span style=\"color: #0087ff; text-decoration-color: #0087ff\">MaxPooling2D</span>)  │ (<span style=\"color: #00d7ff; text-decoration-color: #00d7ff\">None</span>, <span style=\"color: #00af00; text-decoration-color: #00af00\">6</span>, <span style=\"color: #00af00; text-decoration-color: #00af00\">6</span>, <span style=\"color: #00af00; text-decoration-color: #00af00\">64</span>)       │             <span style=\"color: #00af00; text-decoration-color: #00af00\">0</span> │\n",
       "├─────────────────────────────────┼────────────────────────┼───────────────┤\n",
       "│ flatten (<span style=\"color: #0087ff; text-decoration-color: #0087ff\">Flatten</span>)               │ (<span style=\"color: #00d7ff; text-decoration-color: #00d7ff\">None</span>, <span style=\"color: #00af00; text-decoration-color: #00af00\">2304</span>)           │             <span style=\"color: #00af00; text-decoration-color: #00af00\">0</span> │\n",
       "├─────────────────────────────────┼────────────────────────┼───────────────┤\n",
       "│ dense (<span style=\"color: #0087ff; text-decoration-color: #0087ff\">Dense</span>)                   │ (<span style=\"color: #00d7ff; text-decoration-color: #00d7ff\">None</span>, <span style=\"color: #00af00; text-decoration-color: #00af00\">64</span>)             │       <span style=\"color: #00af00; text-decoration-color: #00af00\">147,520</span> │\n",
       "├─────────────────────────────────┼────────────────────────┼───────────────┤\n",
       "│ dense_1 (<span style=\"color: #0087ff; text-decoration-color: #0087ff\">Dense</span>)                 │ (<span style=\"color: #00d7ff; text-decoration-color: #00d7ff\">None</span>, <span style=\"color: #00af00; text-decoration-color: #00af00\">10</span>)             │           <span style=\"color: #00af00; text-decoration-color: #00af00\">650</span> │\n",
       "└─────────────────────────────────┴────────────────────────┴───────────────┘\n",
       "</pre>\n"
      ],
      "text/plain": [
       "┏━━━━━━━━━━━━━━━━━━━━━━━━━━━━━━━━━┳━━━━━━━━━━━━━━━━━━━━━━━━┳━━━━━━━━━━━━━━━┓\n",
       "┃\u001b[1m \u001b[0m\u001b[1mLayer (type)                   \u001b[0m\u001b[1m \u001b[0m┃\u001b[1m \u001b[0m\u001b[1mOutput Shape          \u001b[0m\u001b[1m \u001b[0m┃\u001b[1m \u001b[0m\u001b[1m      Param #\u001b[0m\u001b[1m \u001b[0m┃\n",
       "┡━━━━━━━━━━━━━━━━━━━━━━━━━━━━━━━━━╇━━━━━━━━━━━━━━━━━━━━━━━━╇━━━━━━━━━━━━━━━┩\n",
       "│ conv2d (\u001b[38;5;33mConv2D\u001b[0m)                 │ (\u001b[38;5;45mNone\u001b[0m, \u001b[38;5;34m30\u001b[0m, \u001b[38;5;34m30\u001b[0m, \u001b[38;5;34m32\u001b[0m)     │           \u001b[38;5;34m896\u001b[0m │\n",
       "├─────────────────────────────────┼────────────────────────┼───────────────┤\n",
       "│ max_pooling2d (\u001b[38;5;33mMaxPooling2D\u001b[0m)    │ (\u001b[38;5;45mNone\u001b[0m, \u001b[38;5;34m15\u001b[0m, \u001b[38;5;34m15\u001b[0m, \u001b[38;5;34m32\u001b[0m)     │             \u001b[38;5;34m0\u001b[0m │\n",
       "├─────────────────────────────────┼────────────────────────┼───────────────┤\n",
       "│ conv2d_1 (\u001b[38;5;33mConv2D\u001b[0m)               │ (\u001b[38;5;45mNone\u001b[0m, \u001b[38;5;34m13\u001b[0m, \u001b[38;5;34m13\u001b[0m, \u001b[38;5;34m64\u001b[0m)     │        \u001b[38;5;34m18,496\u001b[0m │\n",
       "├─────────────────────────────────┼────────────────────────┼───────────────┤\n",
       "│ max_pooling2d_1 (\u001b[38;5;33mMaxPooling2D\u001b[0m)  │ (\u001b[38;5;45mNone\u001b[0m, \u001b[38;5;34m6\u001b[0m, \u001b[38;5;34m6\u001b[0m, \u001b[38;5;34m64\u001b[0m)       │             \u001b[38;5;34m0\u001b[0m │\n",
       "├─────────────────────────────────┼────────────────────────┼───────────────┤\n",
       "│ flatten (\u001b[38;5;33mFlatten\u001b[0m)               │ (\u001b[38;5;45mNone\u001b[0m, \u001b[38;5;34m2304\u001b[0m)           │             \u001b[38;5;34m0\u001b[0m │\n",
       "├─────────────────────────────────┼────────────────────────┼───────────────┤\n",
       "│ dense (\u001b[38;5;33mDense\u001b[0m)                   │ (\u001b[38;5;45mNone\u001b[0m, \u001b[38;5;34m64\u001b[0m)             │       \u001b[38;5;34m147,520\u001b[0m │\n",
       "├─────────────────────────────────┼────────────────────────┼───────────────┤\n",
       "│ dense_1 (\u001b[38;5;33mDense\u001b[0m)                 │ (\u001b[38;5;45mNone\u001b[0m, \u001b[38;5;34m10\u001b[0m)             │           \u001b[38;5;34m650\u001b[0m │\n",
       "└─────────────────────────────────┴────────────────────────┴───────────────┘\n"
      ]
     },
     "metadata": {},
     "output_type": "display_data"
    },
    {
     "data": {
      "text/html": [
       "<pre style=\"white-space:pre;overflow-x:auto;line-height:normal;font-family:Menlo,'DejaVu Sans Mono',consolas,'Courier New',monospace\"><span style=\"font-weight: bold\"> Total params: </span><span style=\"color: #00af00; text-decoration-color: #00af00\">167,562</span> (654.54 KB)\n",
       "</pre>\n"
      ],
      "text/plain": [
       "\u001b[1m Total params: \u001b[0m\u001b[38;5;34m167,562\u001b[0m (654.54 KB)\n"
      ]
     },
     "metadata": {},
     "output_type": "display_data"
    },
    {
     "data": {
      "text/html": [
       "<pre style=\"white-space:pre;overflow-x:auto;line-height:normal;font-family:Menlo,'DejaVu Sans Mono',consolas,'Courier New',monospace\"><span style=\"font-weight: bold\"> Trainable params: </span><span style=\"color: #00af00; text-decoration-color: #00af00\">167,562</span> (654.54 KB)\n",
       "</pre>\n"
      ],
      "text/plain": [
       "\u001b[1m Trainable params: \u001b[0m\u001b[38;5;34m167,562\u001b[0m (654.54 KB)\n"
      ]
     },
     "metadata": {},
     "output_type": "display_data"
    },
    {
     "data": {
      "text/html": [
       "<pre style=\"white-space:pre;overflow-x:auto;line-height:normal;font-family:Menlo,'DejaVu Sans Mono',consolas,'Courier New',monospace\"><span style=\"font-weight: bold\"> Non-trainable params: </span><span style=\"color: #00af00; text-decoration-color: #00af00\">0</span> (0.00 B)\n",
       "</pre>\n"
      ],
      "text/plain": [
       "\u001b[1m Non-trainable params: \u001b[0m\u001b[38;5;34m0\u001b[0m (0.00 B)\n"
      ]
     },
     "metadata": {},
     "output_type": "display_data"
    }
   ],
   "source": [
    "model = Sequential()\n",
    "\n",
    "# First Conv Layer\n",
    "model.add(Conv2D(\n",
    "    filters=32,\n",
    "    kernel_size=(3, 3),\n",
    "    activation=\"relu\",\n",
    "    input_shape=(32, 32, 3)\n",
    "))\n",
    "\n",
    "model.add(MaxPool2D(pool_size=(2,2)))\n",
    "\n",
    "# Seconnd Conv Layer\n",
    "model.add(Conv2D(\n",
    "    filters=64,\n",
    "    kernel_size=(3,3),\n",
    "    activation=\"relu\"\n",
    "))\n",
    "\n",
    "model.add(MaxPool2D(pool_size=(2,2)))\n",
    "\n",
    "# Going to output, but first need to flatten to feed into Full connnected Layer\n",
    "model.add(Flatten())\n",
    "model.add(Dense(64, activation=\"relu\"))\n",
    "model.add(Dense(10, activation=\"softmax\"))\n",
    "\n",
    "model.summary()\n"
   ]
  },
  {
   "cell_type": "markdown",
   "id": "c4c24f1a",
   "metadata": {},
   "source": [
    "### However, the model have'n compiled yet, the keras uses both funtionnal call and Strings to define the methods. But we recommend functionnal call, which is close to pytorch."
   ]
  },
  {
   "cell_type": "code",
   "execution_count": 19,
   "id": "5389a7bd",
   "metadata": {},
   "outputs": [],
   "source": [
    "# keras use String\n",
    "\n",
    "\n",
    "LOSS = 'sparse_categorical_crossentropy'\n",
    "OPTIMIZER = 'adam'\n",
    "\n",
    "# Compile the model\n",
    "model.compile(optimizer=OPTIMIZER,\n",
    "              loss=LOSS,\n",
    "              metrics=['accuracy'])"
   ]
  },
  {
   "cell_type": "code",
   "execution_count": 20,
   "id": "e92708f3",
   "metadata": {},
   "outputs": [],
   "source": [
    "from tensorflow.keras import optimizers, losses"
   ]
  },
  {
   "cell_type": "code",
   "execution_count": 21,
   "id": "a5649bd1",
   "metadata": {},
   "outputs": [],
   "source": [
    "# keras use Functional call]\n",
    "\n",
    "\n",
    "# Recommand \n",
    "\n",
    "model.compile(\n",
    "    loss = losses.SparseCategoricalCrossentropy(),\n",
    "    optimizer = optimizers.Adam(learning_rate=0.001),\n",
    "    metrics = [\"accuracy\"]\n",
    ")"
   ]
  },
  {
   "cell_type": "markdown",
   "id": "3bbda7c1",
   "metadata": {},
   "source": [
    "## Now time to train the model"
   ]
  },
  {
   "cell_type": "code",
   "execution_count": 22,
   "id": "57f3d100",
   "metadata": {},
   "outputs": [],
   "source": [
    "epoch = 20\n",
    "\n",
    "early_stop = EarlyStopping(monitor=\"val_loss\", patience=4)"
   ]
  },
  {
   "cell_type": "code",
   "execution_count": 23,
   "id": "4d618f1a",
   "metadata": {},
   "outputs": [
    {
     "name": "stdout",
     "output_type": "stream",
     "text": [
      "Epoch 1/20\n",
      "\u001b[1m1407/1407\u001b[0m \u001b[32m━━━━━━━━━━━━━━━━━━━━\u001b[0m\u001b[37m\u001b[0m \u001b[1m6s\u001b[0m 4ms/step - accuracy: 0.4650 - loss: 1.4839 - val_accuracy: 0.5408 - val_loss: 1.2907\n",
      "Epoch 2/20\n",
      "\u001b[1m1407/1407\u001b[0m \u001b[32m━━━━━━━━━━━━━━━━━━━━\u001b[0m\u001b[37m\u001b[0m \u001b[1m6s\u001b[0m 4ms/step - accuracy: 0.5988 - loss: 1.1410 - val_accuracy: 0.6376 - val_loss: 1.0510\n",
      "Epoch 3/20\n",
      "\u001b[1m1407/1407\u001b[0m \u001b[32m━━━━━━━━━━━━━━━━━━━━\u001b[0m\u001b[37m\u001b[0m \u001b[1m6s\u001b[0m 4ms/step - accuracy: 0.6475 - loss: 1.0081 - val_accuracy: 0.6578 - val_loss: 0.9886\n",
      "Epoch 4/20\n",
      "\u001b[1m1407/1407\u001b[0m \u001b[32m━━━━━━━━━━━━━━━━━━━━\u001b[0m\u001b[37m\u001b[0m \u001b[1m5s\u001b[0m 4ms/step - accuracy: 0.6829 - loss: 0.9127 - val_accuracy: 0.6814 - val_loss: 0.9210\n",
      "Epoch 5/20\n",
      "\u001b[1m1407/1407\u001b[0m \u001b[32m━━━━━━━━━━━━━━━━━━━━\u001b[0m\u001b[37m\u001b[0m \u001b[1m6s\u001b[0m 4ms/step - accuracy: 0.7109 - loss: 0.8319 - val_accuracy: 0.6750 - val_loss: 0.9370\n",
      "Epoch 6/20\n",
      "\u001b[1m1407/1407\u001b[0m \u001b[32m━━━━━━━━━━━━━━━━━━━━\u001b[0m\u001b[37m\u001b[0m \u001b[1m6s\u001b[0m 4ms/step - accuracy: 0.7340 - loss: 0.7664 - val_accuracy: 0.7000 - val_loss: 0.9074\n",
      "Epoch 7/20\n",
      "\u001b[1m1407/1407\u001b[0m \u001b[32m━━━━━━━━━━━━━━━━━━━━\u001b[0m\u001b[37m\u001b[0m \u001b[1m6s\u001b[0m 4ms/step - accuracy: 0.7570 - loss: 0.7055 - val_accuracy: 0.7094 - val_loss: 0.8651\n",
      "Epoch 8/20\n",
      "\u001b[1m1407/1407\u001b[0m \u001b[32m━━━━━━━━━━━━━━━━━━━━\u001b[0m\u001b[37m\u001b[0m \u001b[1m6s\u001b[0m 4ms/step - accuracy: 0.7745 - loss: 0.6492 - val_accuracy: 0.7022 - val_loss: 0.9015\n",
      "Epoch 9/20\n",
      "\u001b[1m1407/1407\u001b[0m \u001b[32m━━━━━━━━━━━━━━━━━━━━\u001b[0m\u001b[37m\u001b[0m \u001b[1m5s\u001b[0m 4ms/step - accuracy: 0.7902 - loss: 0.6014 - val_accuracy: 0.6982 - val_loss: 0.9047\n",
      "Epoch 10/20\n",
      "\u001b[1m1407/1407\u001b[0m \u001b[32m━━━━━━━━━━━━━━━━━━━━\u001b[0m\u001b[37m\u001b[0m \u001b[1m6s\u001b[0m 4ms/step - accuracy: 0.8064 - loss: 0.5523 - val_accuracy: 0.7002 - val_loss: 0.9192\n",
      "Epoch 11/20\n",
      "\u001b[1m1407/1407\u001b[0m \u001b[32m━━━━━━━━━━━━━━━━━━━━\u001b[0m\u001b[37m\u001b[0m \u001b[1m6s\u001b[0m 4ms/step - accuracy: 0.8210 - loss: 0.5117 - val_accuracy: 0.7020 - val_loss: 0.9445\n"
     ]
    }
   ],
   "source": [
    "# Traning\n",
    "\n",
    "history = model.fit(\n",
    "    train_imgs,\n",
    "    train_labels,\n",
    "    epochs=epoch,\n",
    "    validation_data=(validation_imgs, validation_labels),\n",
    "    #callbacks will store some addtional order to training process\n",
    "    callbacks=[early_stop]\n",
    ")"
   ]
  },
  {
   "cell_type": "code",
   "execution_count": 24,
   "id": "c1fafcf4",
   "metadata": {},
   "outputs": [
    {
     "data": {
      "text/plain": [
       "<matplotlib.legend.Legend at 0x18ee52b5af0>"
      ]
     },
     "execution_count": 24,
     "metadata": {},
     "output_type": "execute_result"
    },
    {
     "data": {
      "image/png": "[encoded data removed]",
      "text/plain": [
       "<Figure size 640x480 with 1 Axes>"
      ]
     },
     "metadata": {},
     "output_type": "display_data"
    }
   ],
   "source": [
    "plt.plot(history.history[\"accuracy\"], label=\"train acc\")\n",
    "plt.plot(history.history[\"val_accuracy\"], label=\"validation acc\")\n",
    "plt.title(\"Model Accuracy\")\n",
    "plt.xlabel(\"Epochs\")\n",
    "plt.ylabel(\"Accuracy\")\n",
    "plt.ylim([0.4,1.0])\n",
    "plt.legend()"
   ]
  },
  {
   "cell_type": "markdown",
   "id": "59308474",
   "metadata": {},
   "source": [
    "### The objective history has all the information during the training, which is a dictionary and covers all metrics we set both in compile and fit()."
   ]
  },
  {
   "cell_type": "markdown",
   "id": "625684e8",
   "metadata": {},
   "source": [
    "## What is the picture means ? In the training set, the accuracy is getting better but the validation set is getting worse, means the model is overfitting."
   ]
  },
  {
   "cell_type": "markdown",
   "id": "10aa322d",
   "metadata": {},
   "source": [
    "### Now we can use the evlauate function to see the performace. Remind it's `model.evaluate()`"
   ]
  },
  {
   "cell_type": "code",
   "execution_count": 25,
   "id": "254c2cb2",
   "metadata": {},
   "outputs": [
    {
     "name": "stdout",
     "output_type": "stream",
     "text": [
      "\u001b[1m313/313\u001b[0m \u001b[32m━━━━━━━━━━━━━━━━━━━━\u001b[0m\u001b[37m\u001b[0m \u001b[1m1s\u001b[0m 2ms/step - accuracy: 0.6940 - loss: 0.9845\n"
     ]
    },
    {
     "data": {
      "text/plain": [
       "[0.9845355749130249, 0.6940000057220459]"
      ]
     },
     "execution_count": 25,
     "metadata": {},
     "output_type": "execute_result"
    }
   ],
   "source": [
    "model.evaluate(test_imgs, test_labels)"
   ]
  },
  {
   "cell_type": "code",
   "execution_count": 26,
   "id": "f8da6f84",
   "metadata": {},
   "outputs": [
    {
     "name": "stdout",
     "output_type": "stream",
     "text": [
      "\u001b[1m313/313\u001b[0m \u001b[32m━━━━━━━━━━━━━━━━━━━━\u001b[0m\u001b[37m\u001b[0m \u001b[1m1s\u001b[0m 2ms/step\n"
     ]
    }
   ],
   "source": [
    "predictions = model.predict(test_imgs)"
   ]
  },
  {
   "cell_type": "code",
   "execution_count": 27,
   "id": "e443e3af",
   "metadata": {},
   "outputs": [
    {
     "data": {
      "text/plain": [
       "(10000, 10)"
      ]
     },
     "execution_count": 27,
     "metadata": {},
     "output_type": "execute_result"
    }
   ],
   "source": [
    "predictions.shape"
   ]
  },
  {
   "cell_type": "markdown",
   "id": "ee4ea9bf",
   "metadata": {},
   "source": [
    "### The prediction covers 10 classes, we need split the max value inside to get the predict."
   ]
  },
  {
   "cell_type": "code",
   "execution_count": 28,
   "id": "183fdc53",
   "metadata": {},
   "outputs": [
    {
     "data": {
      "text/plain": [
       "(10000,)"
      ]
     },
     "execution_count": 28,
     "metadata": {},
     "output_type": "execute_result"
    }
   ],
   "source": [
    "# argmax for getting the max value index, which axis=1 measn from the column, axis-0 means from the row\n",
    "\n",
    "predictions = np.argmax(predictions, axis=1)\n",
    "predictions.shape"
   ]
  },
  {
   "cell_type": "markdown",
   "id": "5224e579",
   "metadata": {},
   "source": [
    "### To see how well the model is, we can not only use `evaluate()`, but also use `classification_report` and `confusion_matrix` from sklearn.\n",
    "\n",
    "`classification_report` receives the true labels and predicted labels, and target_names is the class names, making a beautiful reoprt table.\n",
    "\n",
    "`confusion_matrix` always cobines with `heatmap()` from seaborn to show the results."
   ]
  },
  {
   "cell_type": "code",
   "execution_count": 29,
   "id": "8aac86cf",
   "metadata": {},
   "outputs": [],
   "source": [
    "from sklearn.metrics import classification_report, confusion_matrix"
   ]
  },
  {
   "cell_type": "code",
   "execution_count": 30,
   "id": "656915a6",
   "metadata": {},
   "outputs": [
    {
     "name": "stdout",
     "output_type": "stream",
     "text": [
      "              precision    recall  f1-score   support\n",
      "\n",
      "    airplane       0.75      0.74      0.74      1000\n",
      "  automobile       0.81      0.82      0.81      1000\n",
      "        bird       0.58      0.64      0.61      1000\n",
      "         cat       0.52      0.48      0.50      1000\n",
      "        deer       0.64      0.63      0.64      1000\n",
      "         dog       0.60      0.55      0.57      1000\n",
      "        frog       0.74      0.78      0.76      1000\n",
      "       horse       0.75      0.71      0.73      1000\n",
      "        ship       0.73      0.86      0.79      1000\n",
      "       truck       0.82      0.73      0.77      1000\n",
      "\n",
      "    accuracy                           0.69     10000\n",
      "   macro avg       0.69      0.69      0.69     10000\n",
      "weighted avg       0.69      0.69      0.69     10000\n",
      "\n"
     ]
    }
   ],
   "source": [
    "print(classification_report(test_labels, predictions, target_names=class_names))"
   ]
  },
  {
   "cell_type": "code",
   "execution_count": 31,
   "id": "1af8c535",
   "metadata": {},
   "outputs": [
    {
     "data": {
      "text/plain": [
       "array([[736,  23,  64,  15,  18,   8,  12,   7, 100,  17],\n",
       "       [ 28, 816,  13,   7,   5,   3,  13,   4,  42,  69],\n",
       "       [ 49,   8, 638,  49,  81,  56,  66,  30,  19,   4],\n",
       "       [ 27,   8,  77, 484,  72, 161,  81,  35,  39,  16],\n",
       "       [ 24,   4,  92,  53, 632,  46,  51,  78,  17,   3],\n",
       "       [ 16,   3,  87, 186,  48, 547,  30,  50,  21,  12],\n",
       "       [  7,   5,  60,  50,  35,  23, 783,  10,  19,   8],\n",
       "       [ 15,   6,  50,  54,  77,  55,  11, 710,  11,  11],\n",
       "       [ 48,  31,  10,  12,   5,   4,   6,   4, 862,  18],\n",
       "       [ 32, 103,  16,  18,   9,  11,  12,  17,  50, 732]])"
      ]
     },
     "execution_count": 31,
     "metadata": {},
     "output_type": "execute_result"
    }
   ],
   "source": [
    "confusion_matrix(test_labels, predictions)"
   ]
  },
  {
   "cell_type": "code",
   "execution_count": 32,
   "id": "1795388b",
   "metadata": {},
   "outputs": [],
   "source": [
    "import seaborn as sns"
   ]
  },
  {
   "cell_type": "code",
   "execution_count": 33,
   "id": "dbc6206f",
   "metadata": {},
   "outputs": [
    {
     "data": {
      "text/plain": [
       "<Axes: >"
      ]
     },
     "execution_count": 33,
     "metadata": {},
     "output_type": "execute_result"
    },
    {
     "data": {
      "image/png": "[encoded data removed]",
      "text/plain": [
       "<Figure size 800x800 with 2 Axes>"
      ]
     },
     "metadata": {},
     "output_type": "display_data"
    }
   ],
   "source": [
    "plt.figure(figsize=(8,8))\n",
    "sns.heatmap(confusion_matrix(test_labels, predictions), cmap=\"Blues\", annot=True)"
   ]
  },
  {
   "cell_type": "markdown",
   "id": "5f574392",
   "metadata": {},
   "source": [
    "### Time to see the ture images with the predictions"
   ]
  },
  {
   "cell_type": "code",
   "execution_count": 34,
   "id": "178caf34",
   "metadata": {},
   "outputs": [
    {
     "data": {
      "text/plain": [
       "<matplotlib.image.AxesImage at 0x18edd761130>"
      ]
     },
     "execution_count": 34,
     "metadata": {},
     "output_type": "execute_result"
    },
    {
     "data": {
      "image/png": "[encoded data removed]",
      "text/plain": [
       "<Figure size 800x800 with 1 Axes>"
      ]
     },
     "metadata": {},
     "output_type": "display_data"
    }
   ],
   "source": [
    "plt.figure(figsize=(8,8))\n",
    "plt.imshow(test_imgs[15])"
   ]
  },
  {
   "cell_type": "code",
   "execution_count": null,
   "id": "5cadc6a6",
   "metadata": {},
   "outputs": [
    {
     "data": {
      "text/plain": [
       "np.uint8(8)"
      ]
     },
     "execution_count": 36,
     "metadata": {},
     "output_type": "execute_result"
    }
   ],
   "source": [
    "test_labels[15][0]"
   ]
  },
  {
   "cell_type": "markdown",
   "id": "18544743",
   "metadata": {},
   "source": [
    "We get the true label here"
   ]
  },
  {
   "cell_type": "code",
   "execution_count": 38,
   "id": "ae0b1652",
   "metadata": {},
   "outputs": [
    {
     "data": {
      "text/plain": [
       "'ship'"
      ]
     },
     "execution_count": 38,
     "metadata": {},
     "output_type": "execute_result"
    }
   ],
   "source": [
    "true_label = class_names[test_labels[15][0]]\n",
    "true_label"
   ]
  },
  {
   "cell_type": "code",
   "execution_count": 40,
   "id": "5cdeb699",
   "metadata": {},
   "outputs": [
    {
     "data": {
      "text/plain": [
       "(1, 32, 32, 3)"
      ]
     },
     "execution_count": 40,
     "metadata": {},
     "output_type": "execute_result"
    }
   ],
   "source": [
    "inputs = test_imgs[15].reshape(1, 32, 32, 3)\n",
    "inputs.shape"
   ]
  },
  {
   "cell_type": "code",
   "execution_count": 42,
   "id": "60f15ef7",
   "metadata": {},
   "outputs": [
    {
     "name": "stdout",
     "output_type": "stream",
     "text": [
      "\u001b[1m1/1\u001b[0m \u001b[32m━━━━━━━━━━━━━━━━━━━━\u001b[0m\u001b[37m\u001b[0m \u001b[1m0s\u001b[0m 27ms/step\n"
     ]
    },
    {
     "data": {
      "text/plain": [
       "(1, 10)"
      ]
     },
     "execution_count": 42,
     "metadata": {},
     "output_type": "execute_result"
    }
   ],
   "source": [
    "label_pred = model.predict(inputs)\n",
    "label_pred.shape"
   ]
  },
  {
   "cell_type": "code",
   "execution_count": 45,
   "id": "4ba1069d",
   "metadata": {},
   "outputs": [
    {
     "data": {
      "text/plain": [
       "'airplane'"
      ]
     },
     "execution_count": 45,
     "metadata": {},
     "output_type": "execute_result"
    }
   ],
   "source": [
    "class_names[np.argmax(label_pred, axis=1)[0]]"
   ]
  },
  {
   "cell_type": "markdown",
   "id": "57848ade",
   "metadata": {},
   "source": [
    "### You see that, airplane, the wrongh prediction, anyway our model is only 70% accurate, so it's okay"
   ]
  },
  {
   "cell_type": "code",
   "execution_count": 50,
   "id": "1fd42a4f",
   "metadata": {},
   "outputs": [],
   "source": [
    "def img_pred(img, size=4):\n",
    "    label = test_labels[img][0]\n",
    "    my_image = test_imgs[img]\n",
    "    plt.figure(figsize=(size,size))\n",
    "    plt.imshow(my_image)\n",
    "    my_image = my_image.reshape(1,32,32,3)\n",
    "    img_pred = np.argmax(model.predict(my_image))\n",
    "    pred_label = class_names[img_pred]\n",
    "    pred_prob = model.predict(my_image)[0][img_pred]\n",
    "    print(\" Label {} <=> Pred: {} with prob {:.2}\".format(\n",
    "        class_names[label],\n",
    "        pred_label,\n",
    "        pred_prob))\n",
    "    plt.grid(False)\n",
    "    plt.axis('off')\n",
    "    plt.show()"
   ]
  },
  {
   "cell_type": "code",
   "execution_count": 51,
   "id": "bc7c3ec1",
   "metadata": {},
   "outputs": [
    {
     "name": "stdout",
     "output_type": "stream",
     "text": [
      "\u001b[1m1/1\u001b[0m \u001b[32m━━━━━━━━━━━━━━━━━━━━\u001b[0m\u001b[37m\u001b[0m \u001b[1m0s\u001b[0m 23ms/step\n",
      "\u001b[1m1/1\u001b[0m \u001b[32m━━━━━━━━━━━━━━━━━━━━\u001b[0m\u001b[37m\u001b[0m \u001b[1m0s\u001b[0m 22ms/step\n",
      " Label cat <=> Pred: cat with prob 0.78\n"
     ]
    },
    {
     "data": {
      "image/png": "[encoded data removed]",
      "text/plain": [
       "<Figure size 400x400 with 1 Axes>"
      ]
     },
     "metadata": {},
     "output_type": "display_data"
    }
   ],
   "source": [
    "img_pred(0)"
   ]
  },
  {
   "cell_type": "code",
   "execution_count": 52,
   "id": "51367d2a",
   "metadata": {},
   "outputs": [
    {
     "name": "stdout",
     "output_type": "stream",
     "text": [
      "\u001b[1m1/1\u001b[0m \u001b[32m━━━━━━━━━━━━━━━━━━━━\u001b[0m\u001b[37m\u001b[0m \u001b[1m0s\u001b[0m 23ms/step\n",
      "\u001b[1m1/1\u001b[0m \u001b[32m━━━━━━━━━━━━━━━━━━━━\u001b[0m\u001b[37m\u001b[0m \u001b[1m0s\u001b[0m 30ms/step\n",
      " Label ship <=> Pred: airplane with prob 0.46\n"
     ]
    },
    {
     "data": {
      "image/png": "[encoded data removed]",
      "text/plain": [
       "<Figure size 400x400 with 1 Axes>"
      ]
     },
     "metadata": {},
     "output_type": "display_data"
    }
   ],
   "source": [
    "img_pred(15)"
   ]
  },
  {
   "cell_type": "code",
   "execution_count": 53,
   "id": "983f136e",
   "metadata": {},
   "outputs": [
    {
     "name": "stdout",
     "output_type": "stream",
     "text": [
      "\u001b[1m1/1\u001b[0m \u001b[32m━━━━━━━━━━━━━━━━━━━━\u001b[0m\u001b[37m\u001b[0m \u001b[1m0s\u001b[0m 32ms/step\n",
      "\u001b[1m1/1\u001b[0m \u001b[32m━━━━━━━━━━━━━━━━━━━━\u001b[0m\u001b[37m\u001b[0m \u001b[1m0s\u001b[0m 22ms/step\n",
      " Label dog <=> Pred: dog with prob 0.84\n"
     ]
    },
    {
     "data": {
      "image/png": "[encoded data removed]",
      "text/plain": [
       "<Figure size 400x400 with 1 Axes>"
      ]
     },
     "metadata": {},
     "output_type": "display_data"
    }
   ],
   "source": [
    "img_pred(12)"
   ]
  },
  {
   "cell_type": "markdown",
   "id": "016e5977",
   "metadata": {},
   "source": [
    "### Time to save what we got here"
   ]
  },
  {
   "cell_type": "code",
   "execution_count": null,
   "id": "b2bd0cce",
   "metadata": {},
   "outputs": [],
   "source": [
    "# Please be noticed that now the model need to has \".keras\" or \".h5\" in the end\n",
    "model.save(\"./cifar10_cnn_model.keras\")"
   ]
  },
  {
   "cell_type": "markdown",
   "id": "c3971e55",
   "metadata": {},
   "source": [
    "Can use [Netron](https://netron.app) to visualize the model"
   ]
  },
  {
   "cell_type": "markdown",
   "id": "0591955f",
   "metadata": {},
   "source": [
    "### Because in Raspberry Pi we using the TensorFlow Lite, we need to convert the model to .tflite  \n",
    "\n",
    "Remind TensorFlow is not as smart as transformer, we need to load the model, then convert it."
   ]
  },
  {
   "cell_type": "code",
   "execution_count": 65,
   "id": "3c86fede",
   "metadata": {},
   "outputs": [],
   "source": [
    "model_path = \"./cifar10_cnn_model.keras\"\n",
    "model = tf.keras.models.load_model(model_path)\n",
    "\n",
    "\n",
    "converter = tf.lite.TFLiteConverter.from_keras_model(model=model)"
   ]
  },
  {
   "cell_type": "code",
   "execution_count": 66,
   "id": "6eb246b1",
   "metadata": {},
   "outputs": [
    {
     "name": "stdout",
     "output_type": "stream",
     "text": [
      "INFO:tensorflow:Assets written to: C:\\Users\\prp\\AppData\\Local\\Temp\\tmpmzssjcw5\\assets\n"
     ]
    },
    {
     "name": "stderr",
     "output_type": "stream",
     "text": [
      "INFO:tensorflow:Assets written to: C:\\Users\\prp\\AppData\\Local\\Temp\\tmpmzssjcw5\\assets\n"
     ]
    },
    {
     "name": "stdout",
     "output_type": "stream",
     "text": [
      "Saved artifact at 'C:\\Users\\prp\\AppData\\Local\\Temp\\tmpmzssjcw5'. The following endpoints are available:\n",
      "\n",
      "* Endpoint 'serve'\n",
      "  args_0 (POSITIONAL_ONLY): TensorSpec(shape=(None, 32, 32, 3), dtype=tf.float32, name='input_layer')\n",
      "Output Type:\n",
      "  TensorSpec(shape=(None, 10), dtype=tf.float32, name=None)\n",
      "Captures:\n",
      "  1713262156240: TensorSpec(shape=(), dtype=tf.resource, name=None)\n",
      "  1713262157008: TensorSpec(shape=(), dtype=tf.resource, name=None)\n",
      "  1713262156432: TensorSpec(shape=(), dtype=tf.resource, name=None)\n",
      "  1713262154128: TensorSpec(shape=(), dtype=tf.resource, name=None)\n",
      "  1713262157392: TensorSpec(shape=(), dtype=tf.resource, name=None)\n",
      "  1713262157200: TensorSpec(shape=(), dtype=tf.resource, name=None)\n",
      "  1713262153936: TensorSpec(shape=(), dtype=tf.resource, name=None)\n",
      "  1713262158160: TensorSpec(shape=(), dtype=tf.resource, name=None)\n"
     ]
    }
   ],
   "source": [
    "tflite_model = converter.convert()"
   ]
  },
  {
   "cell_type": "code",
   "execution_count": 67,
   "id": "4ab5f006",
   "metadata": {},
   "outputs": [
    {
     "data": {
      "text/plain": [
       "674340"
      ]
     },
     "execution_count": 67,
     "metadata": {},
     "output_type": "execute_result"
    }
   ],
   "source": [
    "open(\"cifar10_cnn_model.tflite\", \"wb\").write(tflite_model)"
   ]
  },
  {
   "cell_type": "markdown",
   "id": "e290648f",
   "metadata": {},
   "source": [
    "### To reduce the model size, we can do quantization, which named optimization in TesorFlowLite"
   ]
  },
  {
   "cell_type": "code",
   "execution_count": 68,
   "id": "74a6bf70",
   "metadata": {},
   "outputs": [
    {
     "name": "stdout",
     "output_type": "stream",
     "text": [
      "INFO:tensorflow:Assets written to: C:\\Users\\prp\\AppData\\Local\\Temp\\tmpihnztte9\\assets\n"
     ]
    },
    {
     "name": "stderr",
     "output_type": "stream",
     "text": [
      "INFO:tensorflow:Assets written to: C:\\Users\\prp\\AppData\\Local\\Temp\\tmpihnztte9\\assets\n"
     ]
    },
    {
     "name": "stdout",
     "output_type": "stream",
     "text": [
      "Saved artifact at 'C:\\Users\\prp\\AppData\\Local\\Temp\\tmpihnztte9'. The following endpoints are available:\n",
      "\n",
      "* Endpoint 'serve'\n",
      "  args_0 (POSITIONAL_ONLY): TensorSpec(shape=(None, 32, 32, 3), dtype=tf.float32, name='input_layer')\n",
      "Output Type:\n",
      "  TensorSpec(shape=(None, 10), dtype=tf.float32, name=None)\n",
      "Captures:\n",
      "  1713225960720: TensorSpec(shape=(), dtype=tf.resource, name=None)\n",
      "  1713225960912: TensorSpec(shape=(), dtype=tf.resource, name=None)\n",
      "  1713225968784: TensorSpec(shape=(), dtype=tf.resource, name=None)\n",
      "  1713225959760: TensorSpec(shape=(), dtype=tf.resource, name=None)\n",
      "  1712489967888: TensorSpec(shape=(), dtype=tf.resource, name=None)\n",
      "  1713225967824: TensorSpec(shape=(), dtype=tf.resource, name=None)\n",
      "  1713225970512: TensorSpec(shape=(), dtype=tf.resource, name=None)\n",
      "  1713262154320: TensorSpec(shape=(), dtype=tf.resource, name=None)\n"
     ]
    }
   ],
   "source": [
    "model = tf.keras.models.load_model(\"./cifar10_cnn_model.keras\")\n",
    "converter_quantized = tf.lite.TFLiteConverter.from_keras_model(model=model)\n",
    "\n",
    "# The model will automatically do quantization, mostly do int8 quantization\n",
    "converter_quantized.optimizations = [tf.lite.Optimize.DEFAULT]\n",
    "tf_lite_quantized_model = converter_quantized.convert()"
   ]
  },
  {
   "cell_type": "code",
   "execution_count": 70,
   "id": "219b65a2",
   "metadata": {},
   "outputs": [
    {
     "data": {
      "text/plain": [
       "178160"
      ]
     },
     "execution_count": 70,
     "metadata": {},
     "output_type": "execute_result"
    }
   ],
   "source": [
    "open(\"tf_lite_quantized_model\", \"wb\").write(tf_lite_quantized_model)"
   ]
  },
  {
   "cell_type": "markdown",
   "id": "3090c7cd",
   "metadata": {},
   "source": [
    "### That's all about traning a model from tensorflow, and save it as the tflite, while we can make it been deployed in Raspberry Pi by getting the labels and tflite file"
   ]
  },
  {
   "cell_type": "markdown",
   "id": "b4e7c444",
   "metadata": {},
   "source": []
  }
 ],
 "metadata": {
  "kernelspec": {
   "display_name": "RA-BKpWPXUI",
   "language": "python",
   "name": "python3"
  },
  "language_info": {
   "codemirror_mode": {
    "name": "ipython",
    "version": 3
   },
   "file_extension": ".py",
   "mimetype": "text/x-python",
   "name": "python",
   "nbconvert_exporter": "python",
   "pygments_lexer": "ipython3",
   "version": "3.12.3"
  }
 },
 "nbformat": 4,
 "nbformat_minor": 5
}
