{
 "cells": [
  {
   "cell_type": "markdown",
   "id": "242b9972-5152-4f26-bce9-87530c7f72ad",
   "metadata": {},
   "source": [
    "### Now it's tiem to use the Raspi camara, using the python library picamera2"
   ]
  },
  {
   "cell_type": "code",
   "execution_count": 5,
   "id": "820713fa-38e8-4838-b243-5a6fa40e3ddd",
   "metadata": {},
   "outputs": [],
   "source": [
    "import picamera2"
   ]
  },
  {
   "cell_type": "code",
   "execution_count": 9,
   "id": "ed5ae1f2-5835-43ac-bee4-63a7c797fdf6",
   "metadata": {},
   "outputs": [
    {
     "name": "stdout",
     "output_type": "stream",
     "text": [
      "/usr/lib/python3/dist-packages/picamera2/__init__.py\n"
     ]
    }
   ],
   "source": [
    "print(picamera2.__file__)"
   ]
  },
  {
   "cell_type": "code",
   "execution_count": 10,
   "id": "150bfd1b-93d1-411d-89bc-62a61243e579",
   "metadata": {},
   "outputs": [
    {
     "name": "stdout",
     "output_type": "stream",
     "text": [
      "[{'Model': 'imx708', 'Location': 2, 'Rotation': 180, 'Id': '/base/soc/i2c0mux/i2c@1/imx708@1a', 'Num': 0}]\n"
     ]
    },
    {
     "name": "stderr",
     "output_type": "stream",
     "text": [
      "[0:44:36.772639164] [2170] \u001b[1;32m INFO \u001b[1;37mCamera \u001b[1;34mcamera_manager.cpp:326 \u001b[0mlibcamera v0.5.0+59-d83ff0a4\n",
      "[0:44:36.840991719] [2400] \u001b[1;33m WARN \u001b[1;37mRPiSdn \u001b[1;34msdn.cpp:40 \u001b[0mUsing legacy SDN tuning - please consider moving SDN inside rpi.denoise\n",
      "[0:44:36.845218869] [2400] \u001b[1;32m INFO \u001b[1;37mRPI \u001b[1;34mvc4.cpp:447 \u001b[0mRegistered camera /base/soc/i2c0mux/i2c@1/imx708@1a to Unicam device /dev/media2 and ISP device /dev/media0\n",
      "[0:44:36.845318775] [2400] \u001b[1;32m INFO \u001b[1;37mRPI \u001b[1;34mpipeline_base.cpp:1121 \u001b[0mUsing configuration file '/usr/share/libcamera/pipeline/rpi/vc4/rpi_apps.yaml'\n"
     ]
    }
   ],
   "source": [
    "print(picamera2.Picamera2.global_camera_info())"
   ]
  },
  {
   "cell_type": "code",
   "execution_count": 27,
   "id": "6548d47c-dcd8-4a83-ae1e-3e06409814aa",
   "metadata": {},
   "outputs": [],
   "source": [
    "from picamera2 import Picamera2\n",
    "import time \n",
    "from datetime import datetime"
   ]
  },
  {
   "cell_type": "code",
   "execution_count": 13,
   "id": "1d91a59d-48ac-4f02-a20c-3ef092c48de3",
   "metadata": {},
   "outputs": [],
   "source": [
    "picam2 = Picamera2()"
   ]
  },
  {
   "cell_type": "code",
   "execution_count": 15,
   "id": "69795b7b-3a5a-4474-87df-1aeec37302e6",
   "metadata": {},
   "outputs": [
    {
     "name": "stderr",
     "output_type": "stream",
     "text": [
      "[0:47:57.866266973] [2170] \u001b[1;32m INFO \u001b[1;37mCamera \u001b[1;34mcamera.cpp:1205 \u001b[0mconfiguring streams: (0) 640x480-BGR888 (1) 1536x864-SBGGR10_CSI2P\n",
      "[0:47:57.867210961] [2400] \u001b[1;32m INFO \u001b[1;37mRPI \u001b[1;34mvc4.cpp:622 \u001b[0mSensor: /base/soc/i2c0mux/i2c@1/imx708@1a - Selected sensor format: 1536x864-SBGGR10_1X10 - Selected unicam format: 1536x864-pBAA\n"
     ]
    }
   ],
   "source": [
    "config = picam2.create_still_configuration(main={\n",
    "    \"size\":(640, 480)\n",
    "})\n",
    "\n",
    "picam2.configure(config)"
   ]
  },
  {
   "cell_type": "code",
   "execution_count": 16,
   "id": "04344519-84ef-4b7d-930a-f07a269bba6e",
   "metadata": {},
   "outputs": [],
   "source": [
    "picam2.start()"
   ]
  },
  {
   "cell_type": "code",
   "execution_count": 18,
   "id": "c5825b2f-4b10-4d32-8e2e-ca3a465e3b2f",
   "metadata": {},
   "outputs": [],
   "source": [
    "time.sleep(5)"
   ]
  },
  {
   "cell_type": "code",
   "execution_count": 28,
   "id": "59c5b13f-f3a1-46d8-813f-043e2d8cddf4",
   "metadata": {},
   "outputs": [],
   "source": [
    "ts = datetime.now().strftime(\"%Y%m%d_%H%M%S\")"
   ]
  },
  {
   "cell_type": "code",
   "execution_count": 29,
   "id": "7cde6026-5a31-41dc-b0fa-81b8dee042c0",
   "metadata": {},
   "outputs": [
    {
     "name": "stdout",
     "output_type": "stream",
     "text": [
      "images captured\n"
     ]
    }
   ],
   "source": [
    "picam2.capture_file(f\"Camara2_{ts}.jpg\")\n",
    "print(\"images captured\")"
   ]
  },
  {
   "cell_type": "code",
   "execution_count": 30,
   "id": "b67fbbd3-85d3-4b76-81bf-e8f1a60cad85",
   "metadata": {},
   "outputs": [],
   "source": [
    "picam2.stop()"
   ]
  },
  {
   "cell_type": "markdown",
   "id": "41c49585-09d6-43c5-8581-202267587a92",
   "metadata": {},
   "source": [
    "### Here are the method of using the picamera, so we can do some interesting using of it, and we can use Raspberry pi Official book for the learning, now we can just leave it here."
   ]
  },
  {
   "cell_type": "code",
   "execution_count": null,
   "id": "c1340ea3-3ab7-416a-aadc-9e274bfcb2ae",
   "metadata": {},
   "outputs": [],
   "source": []
  }
 ],
 "metadata": {
  "kernelspec": {
   "display_name": "Python 3 (ipykernel)",
   "language": "python",
   "name": "python3"
  },
  "language_info": {
   "codemirror_mode": {
    "name": "ipython",
    "version": 3
   },
   "file_extension": ".py",
   "mimetype": "text/x-python",
   "name": "python",
   "nbconvert_exporter": "python",
   "pygments_lexer": "ipython3",
   "version": "3.11.2"
  }
 },
 "nbformat": 4,
 "nbformat_minor": 5
}
