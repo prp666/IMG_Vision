{
 "cells": [
  {
   "cell_type": "markdown",
   "id": "5dbbdc31-997a-4d58-bfc1-f8bb0fae40ff",
   "metadata": {},
   "source": [
    "### A very useful tool in IoT and Remote the Raspbrry PI"
   ]
  },
  {
   "cell_type": "markdown",
   "id": "ee094f88-72c4-410f-bc14-324c953e9049",
   "metadata": {},
   "source": [
    "I have already found the way to remote my Raspberry PI from the Internet, not using the Raspbrry Pi Connect\n",
    "\n",
    "The `ZeroTier`, which is a very useful tool for IoT field, we can use it by few steps."
   ]
  },
  {
   "cell_type": "markdown",
   "id": "67d8b060-a520-4a5a-9c33-7ac2c3c4416c",
   "metadata": {},
   "source": [
    "1. First, we need to create an account of the ZeroTier, which we can use Google account for the Login.\n",
    "\n",
    "2. Then, we need to create our own Vlan, so for the normal user, there are only 3 network and each of the network can only has 10 devices.\n",
    "\n",
    "3. After the Net has been created, we can see a 16bit indentify code of our vlan. Remember it.\n",
    "\n",
    "4. Then we need add our equipments, for windows: download the application and put the device in then go website of `ZeroTier` and authurition the device, then we can connect it. For linux, we need download it by `curl -s https://install.zerotier.com | sudo bash`, then for join the network, do `sudo zerotier-cli join <IP-Address>`\n",
    "\n",
    "5. Remember we can modify own ip-address, like i do 192.168.192.1 for my desktop\n",
    "\n",
    "6. To leave the vlan, use `sudo zerotier-cli leave <IP-Address>`"
   ]
  },
  {
   "cell_type": "code",
   "execution_count": null,
   "id": "4c3db0f2-2a3e-4ddd-9a54-fc97a323ff3e",
   "metadata": {},
   "outputs": [],
   "source": []
  }
 ],
 "metadata": {
  "kernelspec": {
   "display_name": "Python 3 (ipykernel)",
   "language": "python",
   "name": "python3"
  },
  "language_info": {
   "codemirror_mode": {
    "name": "ipython",
    "version": 3
   },
   "file_extension": ".py",
   "mimetype": "text/x-python",
   "name": "python",
   "nbconvert_exporter": "python",
   "pygments_lexer": "ipython3",
   "version": "3.11.2"
  }
 },
 "nbformat": 4,
 "nbformat_minor": 5
}
